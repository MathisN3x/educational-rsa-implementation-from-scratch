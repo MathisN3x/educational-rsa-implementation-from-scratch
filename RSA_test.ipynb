{
 "cells": [
  {
   "cell_type": "markdown",
   "id": "c4e10f94",
   "metadata": {},
   "source": [
    "# 🔐 Implémentation du chiffrement RSA en Python\n",
    "Un projet simple pour comprendre le fonctionnement du RSA : génération de clés, chiffrement, déchiffrement d'un message."
   ]
  },
  {
   "cell_type": "code",
   "execution_count": null,
   "id": "ebb9a821",
   "metadata": {},
   "outputs": [],
   "source": [
    "from sympy import primerange\n",
    "import random\n",
    "from math import gcd"
   ]
  },
  {
   "cell_type": "markdown",
   "id": "74d252d9",
   "metadata": {},
   "source": [
    "# 🔐 RSA Encryption Implementation in Python  \n",
    "*A simple project to understand RSA: key generation, message encryption, and decryption.*\n",
    "\n",
    "---\n",
    "\n",
    "## 📘 Step 1: RSA Key Generation  \n",
    "\n",
    "Choose two large prime numbers `p` and `q`, then compute:  \n",
    "- `N = p * q` (modulus)  \n",
    "- `φ(N) = (p - 1) * (q - 1)` (Euler's totient function)  \n",
    "- A public key `e` such that `gcd(e, φ(N)) = 1`  \n",
    "- A private key `d` such that `d ≡ e⁻¹ mod φ(N)` "
   ]
  },
  {
   "cell_type": "markdown",
   "id": "81e14d94",
   "metadata": {},
   "source": [
    "### Key Generation Code\n"
   ]
  },
  {
   "cell_type": "code",
   "execution_count": null,
   "id": "37b9f7b4",
   "metadata": {},
   "outputs": [],
   "source": [
    "import random\n",
    "from sympy import primerange\n",
    "\n",
    "def generate_primes():\n",
    "    n = random.randint(10, 20)\n",
    "    print(\"Limite choisie :\", n)\n",
    "    primes = list(primerange(0, n))\n",
    "    \n",
    "    if len(primes) < 2:\n",
    "        return generate_primes()\n",
    "    \n",
    "    N = 1\n",
    "    phi = 1\n",
    "    for i in range(1, len(primes)):\n",
    "        N *= primes[i]\n",
    "        phi *= (primes[i] - 1)\n",
    "    \n",
    "    return N, phi\n",
    "\n",
    "N, phi = generate_primes()\n",
    "print(\"φ(N) =\", phi)\n",
    "print(\"N =\", N)\n"
   ]
  },
  {
   "cell_type": "code",
   "execution_count": null,
   "id": "4dcf8a2e",
   "metadata": {},
   "outputs": [],
   "source": [
    "for i in range(2,phi):\n",
    "    if gcd(i,phi)==1:\n",
    "        e=i\n",
    "        break\n",
    "print(e)\n",
    "\n",
    "for i in range(1,phi):\n",
    "    if (e*i)%phi==1:\n",
    "        d=i\n",
    "        break\n",
    "print(d)\n",
    "\n",
    "public_key=(N,e)\n",
    "private_key=(N,d)\n",
    "print(\"public_key: \",public_key,\"private_key: \",private_key )"
   ]
  },
  {
   "cell_type": "code",
   "execution_count": null,
   "id": "fb43236f",
   "metadata": {},
   "outputs": [],
   "source": [
    "msg=\"Salut a tous\"\n",
    "msg=msg.lower()\n",
    "msg=msg.replace(\" \",\"0\")\n",
    "print(msg)\n",
    "\n",
    "def convert_msg(msg):\n",
    "    converted_msg=[]\n",
    "    for i in range(0,len(msg)):\n",
    "        if msg[i] != \"0\":\n",
    "            converted_msg.append(int(ord(msg[i])-ord(\"a\")+1))\n",
    "        else:\n",
    "            converted_msg.append(int(msg[i]))\n",
    "    return converted_msg\n",
    "converted_msg= convert_msg(msg)\n",
    "print(converted_msg)\n"
   ]
  },
  {
   "cell_type": "markdown",
   "id": "fa27a9cc",
   "metadata": {},
   "source": [
    "## 🔐 Step 2: Message Encryption\n",
    "Convert message to numerical representation using the formula:\n",
    "\n",
    "\n",
    "\n",
    "```math\n",
    "c ≡ m^e mod N"
   ]
  },
  {
   "cell_type": "code",
   "execution_count": null,
   "id": "edbecbcf",
   "metadata": {},
   "outputs": [],
   "source": [
    "def crypt_msg(converted_msg):\n",
    "    crypted_msg=[]\n",
    "    for i in range(0,len(converted_msg)):\n",
    "        c=(int(converted_msg[i])**e)% N\n",
    "        crypted_msg.append(c)\n",
    "    return crypted_msg\n",
    "crypted_msg=crypt_msg(converted_msg)\n",
    "print(crypted_msg)"
   ]
  },
  {
   "cell_type": "markdown",
   "id": "196f469b",
   "metadata": {},
   "source": [
    "### 🔓 Step 3: Message Decryption\n",
    "Decrypt using private key:\n",
    "\n",
    "```math\n",
    "m ≡ c^d mod N\n"
   ]
  },
  {
   "cell_type": "code",
   "execution_count": null,
   "id": "7123367d",
   "metadata": {},
   "outputs": [],
   "source": [
    "def decrypt_msg(crypted_msg):\n",
    "    decrypted_msg=[]\n",
    "    for i in range(0,len(crypted_msg)):\n",
    "        m=int(crypted_msg[i]**d)%N\n",
    "        decrypted_msg.append(m)\n",
    "    \n",
    "    final_msg=\"\"\n",
    "    for i in range(0,len(decrypted_msg)):\n",
    "        if decrypted_msg[i] != 0:\n",
    "            final_msg += str(chr(decrypted_msg[i]+ord(\"a\")-1))\n",
    "        else:\n",
    "            final_msg+= \" \"\n",
    "        \n",
    "    return decrypted_msg,final_msg"
   ]
  },
  {
   "cell_type": "markdown",
   "id": "0d3cd8d4",
   "metadata": {},
   "source": []
  },
  {
   "cell_type": "markdown",
   "id": "d67dc1ae",
   "metadata": {},
   "source": [
    "# Final Test"
   ]
  },
  {
   "cell_type": "code",
   "execution_count": null,
   "id": "d8868ecd",
   "metadata": {},
   "outputs": [],
   "source": [
    "decrypted_msg,final_msg=decrypt_msg(crypted_msg)\n",
    "print(final_msg)"
   ]
  },
  {
   "cell_type": "code",
   "execution_count": null,
   "id": "045631b4",
   "metadata": {},
   "outputs": [],
   "source": []
  }
 ],
 "metadata": {
  "kernelspec": {
   "display_name": "Python 3",
   "language": "python",
   "name": "python3"
  },
  "language_info": {
   "codemirror_mode": {
    "name": "ipython",
    "version": 3
   },
   "file_extension": ".py",
   "mimetype": "text/x-python",
   "name": "python",
   "nbconvert_exporter": "python",
   "pygments_lexer": "ipython3",
   "version": "3.12.10"
  }
 },
 "nbformat": 4,
 "nbformat_minor": 5
}
