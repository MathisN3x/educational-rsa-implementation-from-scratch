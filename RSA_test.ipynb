{
  "cells": [
    {
      "cell_type": "markdown",
      "id": "c4e10f94",
      "metadata": {
        "id": "c4e10f94"
      },
      "source": [
        "# 🔐 Implémentation du chiffrement RSA en Python\n",
        "Un projet simple pour comprendre le fonctionnement du RSA : génération de clés, chiffrement, déchiffrement d'un message."
      ]
    },
    {
      "cell_type": "code",
      "execution_count": 27,
      "id": "ebb9a821",
      "metadata": {
        "id": "ebb9a821"
      },
      "outputs": [],
      "source": [
        "from sympy import primerange\n",
        "import random\n",
        "from math import gcd"
      ]
    },
    {
      "cell_type": "markdown",
      "id": "74d252d9",
      "metadata": {
        "id": "74d252d9"
      },
      "source": [
        "# 🔐 RSA Encryption Implementation in Python  \n",
        "*A simple project to understand RSA: key generation, message encryption, and decryption.*\n",
        "\n",
        "---\n",
        "\n",
        "## 📘 Step 1: RSA Key Generation  \n",
        "\n",
        "Choose two large prime numbers `p` and `q`, then compute:  \n",
        "- `N = p * q` (modulus)  \n",
        "- `φ(N) = (p - 1) * (q - 1)` (Euler's totient function)  \n",
        "- A public key `e` such that `gcd(e, φ(N)) = 1`  \n",
        "- A private key `d` such that `d ≡ e⁻¹ mod φ(N)`"
      ]
    },
    {
      "cell_type": "markdown",
      "id": "81e14d94",
      "metadata": {
        "id": "81e14d94"
      },
      "source": [
        "### Key Generation Code\n"
      ]
    },
    {
      "cell_type": "code",
      "execution_count": 28,
      "id": "37b9f7b4",
      "metadata": {
        "colab": {
          "base_uri": "https://localhost:8080/"
        },
        "id": "37b9f7b4",
        "outputId": "9fa1bf15-dac0-4b4c-c2c4-3da2753a0971"
      },
      "outputs": [
        {
          "output_type": "stream",
          "name": "stdout",
          "text": [
            "Limit chosen: 96\n",
            "φ(N) = 156\n",
            "N = 237\n"
          ]
        }
      ],
      "source": [
        "import random\n",
        "from sympy import primerange\n",
        "\n",
        "def generate_primes():\n",
        "    # Choose a limit for prime generation. A larger limit will give larger primes.\n",
        "    limit = random.randint(50, 100)\n",
        "    print(\"Limit chosen:\", limit)\n",
        "    primes = list(primerange(2, limit)) # Start from 2 to exclude 0 and 1\n",
        "\n",
        "    if len(primes) < 2:\n",
        "        # If not enough primes are found in the range, try again with a larger limit.\n",
        "        return generate_primes()\n",
        "\n",
        "    # Select two distinct random primes\n",
        "    p, q = random.sample(primes, 2)\n",
        "\n",
        "    N = p * q\n",
        "    phi = (p - 1) * (q - 1)\n",
        "\n",
        "    return N, phi\n",
        "\n",
        "N, phi = generate_primes()\n",
        "print(\"φ(N) =\", phi)\n",
        "print(\"N =\", N)"
      ]
    },
    {
      "cell_type": "code",
      "execution_count": 29,
      "id": "4dcf8a2e",
      "metadata": {
        "colab": {
          "base_uri": "https://localhost:8080/"
        },
        "id": "4dcf8a2e",
        "outputId": "e832d052-6240-45a5-e72f-e65b3f326966"
      },
      "outputs": [
        {
          "output_type": "stream",
          "name": "stdout",
          "text": [
            "5\n",
            "125\n",
            "public_key:  (237, 5) private_key:  (237, 125)\n"
          ]
        }
      ],
      "source": [
        "for i in range(2,phi):\n",
        "    if gcd(i,phi)==1:\n",
        "        e=i\n",
        "        break\n",
        "print(e)\n",
        "\n",
        "for i in range(1,phi):\n",
        "    if (e*i)%phi==1:\n",
        "        d=i\n",
        "        break\n",
        "print(d)\n",
        "\n",
        "public_key=(N,e)\n",
        "private_key=(N,d)\n",
        "print(\"public_key: \",public_key,\"private_key: \",private_key )"
      ]
    },
    {
      "cell_type": "code",
      "execution_count": 42,
      "id": "fb43236f",
      "metadata": {
        "colab": {
          "base_uri": "https://localhost:8080/"
        },
        "id": "fb43236f",
        "outputId": "ff1717b3-e1e9-4ec0-daf0-03d2d620f05b"
      },
      "outputs": [
        {
          "output_type": "stream",
          "name": "stdout",
          "text": [
            "salut à tous\n",
            "[115, 97, 108, 117, 116, 32, 224, 32, 116, 111, 117, 115]\n"
          ]
        }
      ],
      "source": [
        "msg=\"Salut à tous\"\n",
        "msg=msg.lower()\n",
        "# Remove the space replacement with '0'\n",
        "# msg=msg.replace(\" \",\"0\")\n",
        "print(msg)\n",
        "\n",
        "def convert_msg(msg):\n",
        "    converted_msg=[]\n",
        "    for char in msg:\n",
        "        # Use the ASCII value of the character\n",
        "        converted_msg.append(ord(char))\n",
        "    return converted_msg\n",
        "\n",
        "converted_msg= convert_msg(msg)\n",
        "print(converted_msg)"
      ]
    },
    {
      "cell_type": "markdown",
      "id": "fa27a9cc",
      "metadata": {
        "id": "fa27a9cc"
      },
      "source": [
        "## 🔐 Step 2: Message Encryption\n",
        "Convert message to numerical representation using the formula:\n",
        "\n",
        "\n",
        "\n",
        "```math\n",
        "c ≡ m^e mod N"
      ]
    },
    {
      "cell_type": "code",
      "execution_count": 39,
      "id": "edbecbcf",
      "metadata": {
        "colab": {
          "base_uri": "https://localhost:8080/"
        },
        "id": "edbecbcf",
        "outputId": "3ce0f688-4232-4658-ba44-0db75fc13876"
      },
      "outputs": [
        {
          "output_type": "stream",
          "name": "stdout",
          "text": [
            "[208, 46, 63, 222, 206, 209, 86, 231, 209, 206, 51, 222, 208]\n"
          ]
        }
      ],
      "source": [
        "def crypt_msg(converted_msg):\n",
        "    crypted_msg=[]\n",
        "    for i in range(0,len(converted_msg)):\n",
        "        c=(int(converted_msg[i])**e)% N\n",
        "        crypted_msg.append(c)\n",
        "    return crypted_msg\n",
        "crypted_msg=crypt_msg(converted_msg)\n",
        "print(crypted_msg)"
      ]
    },
    {
      "cell_type": "markdown",
      "id": "196f469b",
      "metadata": {
        "id": "196f469b"
      },
      "source": [
        "### 🔓 Step 3: Message Decryption\n",
        "Decrypt using private key:\n",
        "\n",
        "```math\n",
        "m ≡ c^d mod N\n"
      ]
    },
    {
      "cell_type": "code",
      "execution_count": 40,
      "id": "7123367d",
      "metadata": {
        "id": "7123367d"
      },
      "outputs": [],
      "source": [
        "def decrypt_msg(crypted_msg):\n",
        "    decrypted_msg=[]\n",
        "    for c in crypted_msg:\n",
        "        # Decrypt using the private key (d, N)\n",
        "        m = pow(c, d, N) # Using pow for efficient modular exponentiation\n",
        "        decrypted_msg.append(m)\n",
        "\n",
        "    final_msg=\"\"\n",
        "    for val in decrypted_msg:\n",
        "        # Convert the decrypted numerical value back to a character using chr()\n",
        "        final_msg += chr(val)\n",
        "\n",
        "    return decrypted_msg,final_msg"
      ]
    },
    {
      "cell_type": "markdown",
      "id": "0d3cd8d4",
      "metadata": {
        "id": "0d3cd8d4"
      },
      "source": []
    },
    {
      "cell_type": "markdown",
      "id": "d67dc1ae",
      "metadata": {
        "id": "d67dc1ae"
      },
      "source": [
        "# Final Test"
      ]
    },
    {
      "cell_type": "code",
      "execution_count": 41,
      "id": "d8868ecd",
      "metadata": {
        "colab": {
          "base_uri": "https://localhost:8080/"
        },
        "id": "d8868ecd",
        "outputId": "0674317a-24ca-4aca-98fc-74a6ee2e1f4b"
      },
      "outputs": [
        {
          "output_type": "stream",
          "name": "stdout",
          "text": [
            "salut àê tous\n"
          ]
        }
      ],
      "source": [
        "decrypted_msg,final_msg=decrypt_msg(crypted_msg)\n",
        "print(final_msg)"
      ]
    },
    {
      "cell_type": "code",
      "execution_count": null,
      "id": "045631b4",
      "metadata": {
        "id": "045631b4"
      },
      "outputs": [],
      "source": []
    }
  ],
  "metadata": {
    "kernelspec": {
      "display_name": "Python 3",
      "language": "python",
      "name": "python3"
    },
    "language_info": {
      "codemirror_mode": {
        "name": "ipython",
        "version": 3
      },
      "file_extension": ".py",
      "mimetype": "text/x-python",
      "name": "python",
      "nbconvert_exporter": "python",
      "pygments_lexer": "ipython3",
      "version": "3.12.10"
    },
    "colab": {
      "provenance": []
    }
  },
  "nbformat": 4,
  "nbformat_minor": 5
}